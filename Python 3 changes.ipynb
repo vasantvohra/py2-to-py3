{
 "cells": [
  {
   "cell_type": "markdown",
   "id": "e465f137",
   "metadata": {},
   "source": [
    "# Dictionary"
   ]
  },
  {
   "cell_type": "markdown",
   "id": "77f3f845",
   "metadata": {},
   "source": [
    "## iteritems -> items and faster due to [view](https://docs.python.org/3.3/library/stdtypes.html#dict-views), similar to iterator\n"
   ]
  },
  {
   "cell_type": "code",
   "execution_count": 175,
   "id": "302256f7",
   "metadata": {},
   "outputs": [
    {
     "name": "stdout",
     "output_type": "stream",
     "text": [
      "Python 3.10.5\r\n"
     ]
    }
   ],
   "source": [
    "!python -V && exit"
   ]
  },
  {
   "cell_type": "markdown",
   "id": "483c78d9",
   "metadata": {},
   "source": [
    "range is a generator in python3"
   ]
  },
  {
   "cell_type": "code",
   "execution_count": 176,
   "id": "806865aa",
   "metadata": {},
   "outputs": [
    {
     "data": {
      "text/plain": [
       "range(0, 5)"
      ]
     },
     "execution_count": 176,
     "metadata": {},
     "output_type": "execute_result"
    }
   ],
   "source": [
    "range(5)"
   ]
  },
  {
   "cell_type": "code",
   "execution_count": null,
   "id": "ae533c9a",
   "metadata": {},
   "outputs": [],
   "source": [
    "# from itertools import zip_longest\n",
    "a = zip(range(1000), range(0, 1000, 2))\n",
    "dictionary = dict(a)\n",
    "dictionary"
   ]
  },
  {
   "cell_type": "code",
   "execution_count": 178,
   "id": "2736df3f",
   "metadata": {},
   "outputs": [],
   "source": [
    "count = 0\n",
    "for k,v in dictionary.items():\n",
    "    if k%2 and v%2: count+=1"
   ]
  },
  {
   "cell_type": "markdown",
   "id": "8d1f232d",
   "metadata": {},
   "source": [
    "Now we can reverse a dictionary view,"
   ]
  },
  {
   "cell_type": "code",
   "execution_count": 179,
   "id": "1e9feca5",
   "metadata": {},
   "outputs": [
    {
     "data": {
      "text/plain": [
       "[499,\n",
       " 498,\n",
       " 497,\n",
       " 496,\n",
       " 495,\n",
       " 494,\n",
       " 493,\n",
       " 492,\n",
       " 491,\n",
       " 490,\n",
       " 489,\n",
       " 488,\n",
       " 487,\n",
       " 486,\n",
       " 485,\n",
       " 484,\n",
       " 483,\n",
       " 482,\n",
       " 481,\n",
       " 480,\n",
       " 479,\n",
       " 478,\n",
       " 477,\n",
       " 476,\n",
       " 475,\n",
       " 474,\n",
       " 473,\n",
       " 472,\n",
       " 471,\n",
       " 470,\n",
       " 469,\n",
       " 468,\n",
       " 467,\n",
       " 466,\n",
       " 465,\n",
       " 464,\n",
       " 463,\n",
       " 462,\n",
       " 461,\n",
       " 460,\n",
       " 459,\n",
       " 458,\n",
       " 457,\n",
       " 456,\n",
       " 455,\n",
       " 454,\n",
       " 453,\n",
       " 452,\n",
       " 451,\n",
       " 450,\n",
       " 449,\n",
       " 448,\n",
       " 447,\n",
       " 446,\n",
       " 445,\n",
       " 444,\n",
       " 443,\n",
       " 442,\n",
       " 441,\n",
       " 440,\n",
       " 439,\n",
       " 438,\n",
       " 437,\n",
       " 436,\n",
       " 435,\n",
       " 434,\n",
       " 433,\n",
       " 432,\n",
       " 431,\n",
       " 430,\n",
       " 429,\n",
       " 428,\n",
       " 427,\n",
       " 426,\n",
       " 425,\n",
       " 424,\n",
       " 423,\n",
       " 422,\n",
       " 421,\n",
       " 420,\n",
       " 419,\n",
       " 418,\n",
       " 417,\n",
       " 416,\n",
       " 415,\n",
       " 414,\n",
       " 413,\n",
       " 412,\n",
       " 411,\n",
       " 410,\n",
       " 409,\n",
       " 408,\n",
       " 407,\n",
       " 406,\n",
       " 405,\n",
       " 404,\n",
       " 403,\n",
       " 402,\n",
       " 401,\n",
       " 400,\n",
       " 399,\n",
       " 398,\n",
       " 397,\n",
       " 396,\n",
       " 395,\n",
       " 394,\n",
       " 393,\n",
       " 392,\n",
       " 391,\n",
       " 390,\n",
       " 389,\n",
       " 388,\n",
       " 387,\n",
       " 386,\n",
       " 385,\n",
       " 384,\n",
       " 383,\n",
       " 382,\n",
       " 381,\n",
       " 380,\n",
       " 379,\n",
       " 378,\n",
       " 377,\n",
       " 376,\n",
       " 375,\n",
       " 374,\n",
       " 373,\n",
       " 372,\n",
       " 371,\n",
       " 370,\n",
       " 369,\n",
       " 368,\n",
       " 367,\n",
       " 366,\n",
       " 365,\n",
       " 364,\n",
       " 363,\n",
       " 362,\n",
       " 361,\n",
       " 360,\n",
       " 359,\n",
       " 358,\n",
       " 357,\n",
       " 356,\n",
       " 355,\n",
       " 354,\n",
       " 353,\n",
       " 352,\n",
       " 351,\n",
       " 350,\n",
       " 349,\n",
       " 348,\n",
       " 347,\n",
       " 346,\n",
       " 345,\n",
       " 344,\n",
       " 343,\n",
       " 342,\n",
       " 341,\n",
       " 340,\n",
       " 339,\n",
       " 338,\n",
       " 337,\n",
       " 336,\n",
       " 335,\n",
       " 334,\n",
       " 333,\n",
       " 332,\n",
       " 331,\n",
       " 330,\n",
       " 329,\n",
       " 328,\n",
       " 327,\n",
       " 326,\n",
       " 325,\n",
       " 324,\n",
       " 323,\n",
       " 322,\n",
       " 321,\n",
       " 320,\n",
       " 319,\n",
       " 318,\n",
       " 317,\n",
       " 316,\n",
       " 315,\n",
       " 314,\n",
       " 313,\n",
       " 312,\n",
       " 311,\n",
       " 310,\n",
       " 309,\n",
       " 308,\n",
       " 307,\n",
       " 306,\n",
       " 305,\n",
       " 304,\n",
       " 303,\n",
       " 302,\n",
       " 301,\n",
       " 300,\n",
       " 299,\n",
       " 298,\n",
       " 297,\n",
       " 296,\n",
       " 295,\n",
       " 294,\n",
       " 293,\n",
       " 292,\n",
       " 291,\n",
       " 290,\n",
       " 289,\n",
       " 288,\n",
       " 287,\n",
       " 286,\n",
       " 285,\n",
       " 284,\n",
       " 283,\n",
       " 282,\n",
       " 281,\n",
       " 280,\n",
       " 279,\n",
       " 278,\n",
       " 277,\n",
       " 276,\n",
       " 275,\n",
       " 274,\n",
       " 273,\n",
       " 272,\n",
       " 271,\n",
       " 270,\n",
       " 269,\n",
       " 268,\n",
       " 267,\n",
       " 266,\n",
       " 265,\n",
       " 264,\n",
       " 263,\n",
       " 262,\n",
       " 261,\n",
       " 260,\n",
       " 259,\n",
       " 258,\n",
       " 257,\n",
       " 256,\n",
       " 255,\n",
       " 254,\n",
       " 253,\n",
       " 252,\n",
       " 251,\n",
       " 250,\n",
       " 249,\n",
       " 248,\n",
       " 247,\n",
       " 246,\n",
       " 245,\n",
       " 244,\n",
       " 243,\n",
       " 242,\n",
       " 241,\n",
       " 240,\n",
       " 239,\n",
       " 238,\n",
       " 237,\n",
       " 236,\n",
       " 235,\n",
       " 234,\n",
       " 233,\n",
       " 232,\n",
       " 231,\n",
       " 230,\n",
       " 229,\n",
       " 228,\n",
       " 227,\n",
       " 226,\n",
       " 225,\n",
       " 224,\n",
       " 223,\n",
       " 222,\n",
       " 221,\n",
       " 220,\n",
       " 219,\n",
       " 218,\n",
       " 217,\n",
       " 216,\n",
       " 215,\n",
       " 214,\n",
       " 213,\n",
       " 212,\n",
       " 211,\n",
       " 210,\n",
       " 209,\n",
       " 208,\n",
       " 207,\n",
       " 206,\n",
       " 205,\n",
       " 204,\n",
       " 203,\n",
       " 202,\n",
       " 201,\n",
       " 200,\n",
       " 199,\n",
       " 198,\n",
       " 197,\n",
       " 196,\n",
       " 195,\n",
       " 194,\n",
       " 193,\n",
       " 192,\n",
       " 191,\n",
       " 190,\n",
       " 189,\n",
       " 188,\n",
       " 187,\n",
       " 186,\n",
       " 185,\n",
       " 184,\n",
       " 183,\n",
       " 182,\n",
       " 181,\n",
       " 180,\n",
       " 179,\n",
       " 178,\n",
       " 177,\n",
       " 176,\n",
       " 175,\n",
       " 174,\n",
       " 173,\n",
       " 172,\n",
       " 171,\n",
       " 170,\n",
       " 169,\n",
       " 168,\n",
       " 167,\n",
       " 166,\n",
       " 165,\n",
       " 164,\n",
       " 163,\n",
       " 162,\n",
       " 161,\n",
       " 160,\n",
       " 159,\n",
       " 158,\n",
       " 157,\n",
       " 156,\n",
       " 155,\n",
       " 154,\n",
       " 153,\n",
       " 152,\n",
       " 151,\n",
       " 150,\n",
       " 149,\n",
       " 148,\n",
       " 147,\n",
       " 146,\n",
       " 145,\n",
       " 144,\n",
       " 143,\n",
       " 142,\n",
       " 141,\n",
       " 140,\n",
       " 139,\n",
       " 138,\n",
       " 137,\n",
       " 136,\n",
       " 135,\n",
       " 134,\n",
       " 133,\n",
       " 132,\n",
       " 131,\n",
       " 130,\n",
       " 129,\n",
       " 128,\n",
       " 127,\n",
       " 126,\n",
       " 125,\n",
       " 124,\n",
       " 123,\n",
       " 122,\n",
       " 121,\n",
       " 120,\n",
       " 119,\n",
       " 118,\n",
       " 117,\n",
       " 116,\n",
       " 115,\n",
       " 114,\n",
       " 113,\n",
       " 112,\n",
       " 111,\n",
       " 110,\n",
       " 109,\n",
       " 108,\n",
       " 107,\n",
       " 106,\n",
       " 105,\n",
       " 104,\n",
       " 103,\n",
       " 102,\n",
       " 101,\n",
       " 100,\n",
       " 99,\n",
       " 98,\n",
       " 97,\n",
       " 96,\n",
       " 95,\n",
       " 94,\n",
       " 93,\n",
       " 92,\n",
       " 91,\n",
       " 90,\n",
       " 89,\n",
       " 88,\n",
       " 87,\n",
       " 86,\n",
       " 85,\n",
       " 84,\n",
       " 83,\n",
       " 82,\n",
       " 81,\n",
       " 80,\n",
       " 79,\n",
       " 78,\n",
       " 77,\n",
       " 76,\n",
       " 75,\n",
       " 74,\n",
       " 73,\n",
       " 72,\n",
       " 71,\n",
       " 70,\n",
       " 69,\n",
       " 68,\n",
       " 67,\n",
       " 66,\n",
       " 65,\n",
       " 64,\n",
       " 63,\n",
       " 62,\n",
       " 61,\n",
       " 60,\n",
       " 59,\n",
       " 58,\n",
       " 57,\n",
       " 56,\n",
       " 55,\n",
       " 54,\n",
       " 53,\n",
       " 52,\n",
       " 51,\n",
       " 50,\n",
       " 49,\n",
       " 48,\n",
       " 47,\n",
       " 46,\n",
       " 45,\n",
       " 44,\n",
       " 43,\n",
       " 42,\n",
       " 41,\n",
       " 40,\n",
       " 39,\n",
       " 38,\n",
       " 37,\n",
       " 36,\n",
       " 35,\n",
       " 34,\n",
       " 33,\n",
       " 32,\n",
       " 31,\n",
       " 30,\n",
       " 29,\n",
       " 28,\n",
       " 27,\n",
       " 26,\n",
       " 25,\n",
       " 24,\n",
       " 23,\n",
       " 22,\n",
       " 21,\n",
       " 20,\n",
       " 19,\n",
       " 18,\n",
       " 17,\n",
       " 16,\n",
       " 15,\n",
       " 14,\n",
       " 13,\n",
       " 12,\n",
       " 11,\n",
       " 10,\n",
       " 9,\n",
       " 8,\n",
       " 7,\n",
       " 6,\n",
       " 5,\n",
       " 4,\n",
       " 3,\n",
       " 2,\n",
       " 1,\n",
       " 0]"
      ]
     },
     "execution_count": 179,
     "metadata": {},
     "output_type": "execute_result"
    }
   ],
   "source": [
    "list(reversed(dictionary))"
   ]
  },
  {
   "cell_type": "markdown",
   "id": "749404fb",
   "metadata": {},
   "source": [
    "Get back a readonly dictionary view? Available only in python 3.10"
   ]
  },
  {
   "cell_type": "code",
   "execution_count": 180,
   "id": "5e9010fd",
   "metadata": {},
   "outputs": [
    {
     "data": {
      "text/plain": [
       "mappingproxy({0: 0,\n",
       "              1: 2,\n",
       "              2: 4,\n",
       "              3: 6,\n",
       "              4: 8,\n",
       "              5: 10,\n",
       "              6: 12,\n",
       "              7: 14,\n",
       "              8: 16,\n",
       "              9: 18,\n",
       "              10: 20,\n",
       "              11: 22,\n",
       "              12: 24,\n",
       "              13: 26,\n",
       "              14: 28,\n",
       "              15: 30,\n",
       "              16: 32,\n",
       "              17: 34,\n",
       "              18: 36,\n",
       "              19: 38,\n",
       "              20: 40,\n",
       "              21: 42,\n",
       "              22: 44,\n",
       "              23: 46,\n",
       "              24: 48,\n",
       "              25: 50,\n",
       "              26: 52,\n",
       "              27: 54,\n",
       "              28: 56,\n",
       "              29: 58,\n",
       "              30: 60,\n",
       "              31: 62,\n",
       "              32: 64,\n",
       "              33: 66,\n",
       "              34: 68,\n",
       "              35: 70,\n",
       "              36: 72,\n",
       "              37: 74,\n",
       "              38: 76,\n",
       "              39: 78,\n",
       "              40: 80,\n",
       "              41: 82,\n",
       "              42: 84,\n",
       "              43: 86,\n",
       "              44: 88,\n",
       "              45: 90,\n",
       "              46: 92,\n",
       "              47: 94,\n",
       "              48: 96,\n",
       "              49: 98,\n",
       "              50: 100,\n",
       "              51: 102,\n",
       "              52: 104,\n",
       "              53: 106,\n",
       "              54: 108,\n",
       "              55: 110,\n",
       "              56: 112,\n",
       "              57: 114,\n",
       "              58: 116,\n",
       "              59: 118,\n",
       "              60: 120,\n",
       "              61: 122,\n",
       "              62: 124,\n",
       "              63: 126,\n",
       "              64: 128,\n",
       "              65: 130,\n",
       "              66: 132,\n",
       "              67: 134,\n",
       "              68: 136,\n",
       "              69: 138,\n",
       "              70: 140,\n",
       "              71: 142,\n",
       "              72: 144,\n",
       "              73: 146,\n",
       "              74: 148,\n",
       "              75: 150,\n",
       "              76: 152,\n",
       "              77: 154,\n",
       "              78: 156,\n",
       "              79: 158,\n",
       "              80: 160,\n",
       "              81: 162,\n",
       "              82: 164,\n",
       "              83: 166,\n",
       "              84: 168,\n",
       "              85: 170,\n",
       "              86: 172,\n",
       "              87: 174,\n",
       "              88: 176,\n",
       "              89: 178,\n",
       "              90: 180,\n",
       "              91: 182,\n",
       "              92: 184,\n",
       "              93: 186,\n",
       "              94: 188,\n",
       "              95: 190,\n",
       "              96: 192,\n",
       "              97: 194,\n",
       "              98: 196,\n",
       "              99: 198,\n",
       "              100: 200,\n",
       "              101: 202,\n",
       "              102: 204,\n",
       "              103: 206,\n",
       "              104: 208,\n",
       "              105: 210,\n",
       "              106: 212,\n",
       "              107: 214,\n",
       "              108: 216,\n",
       "              109: 218,\n",
       "              110: 220,\n",
       "              111: 222,\n",
       "              112: 224,\n",
       "              113: 226,\n",
       "              114: 228,\n",
       "              115: 230,\n",
       "              116: 232,\n",
       "              117: 234,\n",
       "              118: 236,\n",
       "              119: 238,\n",
       "              120: 240,\n",
       "              121: 242,\n",
       "              122: 244,\n",
       "              123: 246,\n",
       "              124: 248,\n",
       "              125: 250,\n",
       "              126: 252,\n",
       "              127: 254,\n",
       "              128: 256,\n",
       "              129: 258,\n",
       "              130: 260,\n",
       "              131: 262,\n",
       "              132: 264,\n",
       "              133: 266,\n",
       "              134: 268,\n",
       "              135: 270,\n",
       "              136: 272,\n",
       "              137: 274,\n",
       "              138: 276,\n",
       "              139: 278,\n",
       "              140: 280,\n",
       "              141: 282,\n",
       "              142: 284,\n",
       "              143: 286,\n",
       "              144: 288,\n",
       "              145: 290,\n",
       "              146: 292,\n",
       "              147: 294,\n",
       "              148: 296,\n",
       "              149: 298,\n",
       "              150: 300,\n",
       "              151: 302,\n",
       "              152: 304,\n",
       "              153: 306,\n",
       "              154: 308,\n",
       "              155: 310,\n",
       "              156: 312,\n",
       "              157: 314,\n",
       "              158: 316,\n",
       "              159: 318,\n",
       "              160: 320,\n",
       "              161: 322,\n",
       "              162: 324,\n",
       "              163: 326,\n",
       "              164: 328,\n",
       "              165: 330,\n",
       "              166: 332,\n",
       "              167: 334,\n",
       "              168: 336,\n",
       "              169: 338,\n",
       "              170: 340,\n",
       "              171: 342,\n",
       "              172: 344,\n",
       "              173: 346,\n",
       "              174: 348,\n",
       "              175: 350,\n",
       "              176: 352,\n",
       "              177: 354,\n",
       "              178: 356,\n",
       "              179: 358,\n",
       "              180: 360,\n",
       "              181: 362,\n",
       "              182: 364,\n",
       "              183: 366,\n",
       "              184: 368,\n",
       "              185: 370,\n",
       "              186: 372,\n",
       "              187: 374,\n",
       "              188: 376,\n",
       "              189: 378,\n",
       "              190: 380,\n",
       "              191: 382,\n",
       "              192: 384,\n",
       "              193: 386,\n",
       "              194: 388,\n",
       "              195: 390,\n",
       "              196: 392,\n",
       "              197: 394,\n",
       "              198: 396,\n",
       "              199: 398,\n",
       "              200: 400,\n",
       "              201: 402,\n",
       "              202: 404,\n",
       "              203: 406,\n",
       "              204: 408,\n",
       "              205: 410,\n",
       "              206: 412,\n",
       "              207: 414,\n",
       "              208: 416,\n",
       "              209: 418,\n",
       "              210: 420,\n",
       "              211: 422,\n",
       "              212: 424,\n",
       "              213: 426,\n",
       "              214: 428,\n",
       "              215: 430,\n",
       "              216: 432,\n",
       "              217: 434,\n",
       "              218: 436,\n",
       "              219: 438,\n",
       "              220: 440,\n",
       "              221: 442,\n",
       "              222: 444,\n",
       "              223: 446,\n",
       "              224: 448,\n",
       "              225: 450,\n",
       "              226: 452,\n",
       "              227: 454,\n",
       "              228: 456,\n",
       "              229: 458,\n",
       "              230: 460,\n",
       "              231: 462,\n",
       "              232: 464,\n",
       "              233: 466,\n",
       "              234: 468,\n",
       "              235: 470,\n",
       "              236: 472,\n",
       "              237: 474,\n",
       "              238: 476,\n",
       "              239: 478,\n",
       "              240: 480,\n",
       "              241: 482,\n",
       "              242: 484,\n",
       "              243: 486,\n",
       "              244: 488,\n",
       "              245: 490,\n",
       "              246: 492,\n",
       "              247: 494,\n",
       "              248: 496,\n",
       "              249: 498,\n",
       "              250: 500,\n",
       "              251: 502,\n",
       "              252: 504,\n",
       "              253: 506,\n",
       "              254: 508,\n",
       "              255: 510,\n",
       "              256: 512,\n",
       "              257: 514,\n",
       "              258: 516,\n",
       "              259: 518,\n",
       "              260: 520,\n",
       "              261: 522,\n",
       "              262: 524,\n",
       "              263: 526,\n",
       "              264: 528,\n",
       "              265: 530,\n",
       "              266: 532,\n",
       "              267: 534,\n",
       "              268: 536,\n",
       "              269: 538,\n",
       "              270: 540,\n",
       "              271: 542,\n",
       "              272: 544,\n",
       "              273: 546,\n",
       "              274: 548,\n",
       "              275: 550,\n",
       "              276: 552,\n",
       "              277: 554,\n",
       "              278: 556,\n",
       "              279: 558,\n",
       "              280: 560,\n",
       "              281: 562,\n",
       "              282: 564,\n",
       "              283: 566,\n",
       "              284: 568,\n",
       "              285: 570,\n",
       "              286: 572,\n",
       "              287: 574,\n",
       "              288: 576,\n",
       "              289: 578,\n",
       "              290: 580,\n",
       "              291: 582,\n",
       "              292: 584,\n",
       "              293: 586,\n",
       "              294: 588,\n",
       "              295: 590,\n",
       "              296: 592,\n",
       "              297: 594,\n",
       "              298: 596,\n",
       "              299: 598,\n",
       "              300: 600,\n",
       "              301: 602,\n",
       "              302: 604,\n",
       "              303: 606,\n",
       "              304: 608,\n",
       "              305: 610,\n",
       "              306: 612,\n",
       "              307: 614,\n",
       "              308: 616,\n",
       "              309: 618,\n",
       "              310: 620,\n",
       "              311: 622,\n",
       "              312: 624,\n",
       "              313: 626,\n",
       "              314: 628,\n",
       "              315: 630,\n",
       "              316: 632,\n",
       "              317: 634,\n",
       "              318: 636,\n",
       "              319: 638,\n",
       "              320: 640,\n",
       "              321: 642,\n",
       "              322: 644,\n",
       "              323: 646,\n",
       "              324: 648,\n",
       "              325: 650,\n",
       "              326: 652,\n",
       "              327: 654,\n",
       "              328: 656,\n",
       "              329: 658,\n",
       "              330: 660,\n",
       "              331: 662,\n",
       "              332: 664,\n",
       "              333: 666,\n",
       "              334: 668,\n",
       "              335: 670,\n",
       "              336: 672,\n",
       "              337: 674,\n",
       "              338: 676,\n",
       "              339: 678,\n",
       "              340: 680,\n",
       "              341: 682,\n",
       "              342: 684,\n",
       "              343: 686,\n",
       "              344: 688,\n",
       "              345: 690,\n",
       "              346: 692,\n",
       "              347: 694,\n",
       "              348: 696,\n",
       "              349: 698,\n",
       "              350: 700,\n",
       "              351: 702,\n",
       "              352: 704,\n",
       "              353: 706,\n",
       "              354: 708,\n",
       "              355: 710,\n",
       "              356: 712,\n",
       "              357: 714,\n",
       "              358: 716,\n",
       "              359: 718,\n",
       "              360: 720,\n",
       "              361: 722,\n",
       "              362: 724,\n",
       "              363: 726,\n",
       "              364: 728,\n",
       "              365: 730,\n",
       "              366: 732,\n",
       "              367: 734,\n",
       "              368: 736,\n",
       "              369: 738,\n",
       "              370: 740,\n",
       "              371: 742,\n",
       "              372: 744,\n",
       "              373: 746,\n",
       "              374: 748,\n",
       "              375: 750,\n",
       "              376: 752,\n",
       "              377: 754,\n",
       "              378: 756,\n",
       "              379: 758,\n",
       "              380: 760,\n",
       "              381: 762,\n",
       "              382: 764,\n",
       "              383: 766,\n",
       "              384: 768,\n",
       "              385: 770,\n",
       "              386: 772,\n",
       "              387: 774,\n",
       "              388: 776,\n",
       "              389: 778,\n",
       "              390: 780,\n",
       "              391: 782,\n",
       "              392: 784,\n",
       "              393: 786,\n",
       "              394: 788,\n",
       "              395: 790,\n",
       "              396: 792,\n",
       "              397: 794,\n",
       "              398: 796,\n",
       "              399: 798,\n",
       "              400: 800,\n",
       "              401: 802,\n",
       "              402: 804,\n",
       "              403: 806,\n",
       "              404: 808,\n",
       "              405: 810,\n",
       "              406: 812,\n",
       "              407: 814,\n",
       "              408: 816,\n",
       "              409: 818,\n",
       "              410: 820,\n",
       "              411: 822,\n",
       "              412: 824,\n",
       "              413: 826,\n",
       "              414: 828,\n",
       "              415: 830,\n",
       "              416: 832,\n",
       "              417: 834,\n",
       "              418: 836,\n",
       "              419: 838,\n",
       "              420: 840,\n",
       "              421: 842,\n",
       "              422: 844,\n",
       "              423: 846,\n",
       "              424: 848,\n",
       "              425: 850,\n",
       "              426: 852,\n",
       "              427: 854,\n",
       "              428: 856,\n",
       "              429: 858,\n",
       "              430: 860,\n",
       "              431: 862,\n",
       "              432: 864,\n",
       "              433: 866,\n",
       "              434: 868,\n",
       "              435: 870,\n",
       "              436: 872,\n",
       "              437: 874,\n",
       "              438: 876,\n",
       "              439: 878,\n",
       "              440: 880,\n",
       "              441: 882,\n",
       "              442: 884,\n",
       "              443: 886,\n",
       "              444: 888,\n",
       "              445: 890,\n",
       "              446: 892,\n",
       "              447: 894,\n",
       "              448: 896,\n",
       "              449: 898,\n",
       "              450: 900,\n",
       "              451: 902,\n",
       "              452: 904,\n",
       "              453: 906,\n",
       "              454: 908,\n",
       "              455: 910,\n",
       "              456: 912,\n",
       "              457: 914,\n",
       "              458: 916,\n",
       "              459: 918,\n",
       "              460: 920,\n",
       "              461: 922,\n",
       "              462: 924,\n",
       "              463: 926,\n",
       "              464: 928,\n",
       "              465: 930,\n",
       "              466: 932,\n",
       "              467: 934,\n",
       "              468: 936,\n",
       "              469: 938,\n",
       "              470: 940,\n",
       "              471: 942,\n",
       "              472: 944,\n",
       "              473: 946,\n",
       "              474: 948,\n",
       "              475: 950,\n",
       "              476: 952,\n",
       "              477: 954,\n",
       "              478: 956,\n",
       "              479: 958,\n",
       "              480: 960,\n",
       "              481: 962,\n",
       "              482: 964,\n",
       "              483: 966,\n",
       "              484: 968,\n",
       "              485: 970,\n",
       "              486: 972,\n",
       "              487: 974,\n",
       "              488: 976,\n",
       "              489: 978,\n",
       "              490: 980,\n",
       "              491: 982,\n",
       "              492: 984,\n",
       "              493: 986,\n",
       "              494: 988,\n",
       "              495: 990,\n",
       "              496: 992,\n",
       "              497: 994,\n",
       "              498: 996,\n",
       "              499: 998})"
      ]
     },
     "execution_count": 180,
     "metadata": {},
     "output_type": "execute_result"
    }
   ],
   "source": [
    "values = dictionary.values()\n",
    "values.mapping"
   ]
  },
  {
   "cell_type": "code",
   "execution_count": null,
   "id": "ca19c02a",
   "metadata": {},
   "outputs": [],
   "source": []
  },
  {
   "cell_type": "code",
   "execution_count": 181,
   "id": "4bf325c4",
   "metadata": {},
   "outputs": [
    {
     "data": {
      "text/plain": [
       "456"
      ]
     },
     "execution_count": 181,
     "metadata": {},
     "output_type": "execute_result"
    }
   ],
   "source": [
    "values.mapping[228]"
   ]
  },
  {
   "cell_type": "markdown",
   "id": "c8dd194b",
   "metadata": {},
   "source": [
    "update dictionary"
   ]
  },
  {
   "cell_type": "code",
   "execution_count": 182,
   "id": "709ff3f5",
   "metadata": {
    "scrolled": true
   },
   "outputs": [
    {
     "name": "stdout",
     "output_type": "stream",
     "text": [
      "CPU times: user 1 µs, sys: 1 µs, total: 2 µs\n",
      "Wall time: 3.1 µs\n",
      "{'a': 1, 'b': 3, 'c': 4}\n"
     ]
    }
   ],
   "source": [
    "dictionary_1 = {'a': 1, 'b': 2}\n",
    "dictionary_2 = {'b': 3, 'c': 4}\n",
    "%time dictionary_1 |= dictionary_2\n",
    "print(dictionary_1)"
   ]
  },
  {
   "cell_type": "markdown",
   "id": "f7e43469",
   "metadata": {},
   "source": [
    "merge dictionary"
   ]
  },
  {
   "cell_type": "code",
   "execution_count": 183,
   "id": "76188964",
   "metadata": {},
   "outputs": [
    {
     "name": "stdout",
     "output_type": "stream",
     "text": [
      "{'a': 1, 'b': 3, 'c': 4}\n"
     ]
    }
   ],
   "source": [
    "merge_dictionary_1 = {**dictionary_1, **dictionary_2}\n",
    "print(merge_dictionary_1)"
   ]
  },
  {
   "cell_type": "code",
   "execution_count": 184,
   "id": "946c2aa3",
   "metadata": {},
   "outputs": [
    {
     "name": "stdout",
     "output_type": "stream",
     "text": [
      "CPU times: user 2 µs, sys: 0 ns, total: 2 µs\n",
      "Wall time: 3.1 µs\n"
     ]
    },
    {
     "data": {
      "text/plain": [
       "{'b': 2, 'c': 4, 'a': 1}"
      ]
     },
     "execution_count": 184,
     "metadata": {},
     "output_type": "execute_result"
    }
   ],
   "source": [
    "dictionary_1 = {'a': 1, 'b': 2}\n",
    "%time dictionary_1 =  {'b': 3, 'c': 4} | dictionary_1\n",
    "dictionary_1\n",
    "# show screenshot"
   ]
  },
  {
   "cell_type": "markdown",
   "id": "17ffc0c8",
   "metadata": {},
   "source": [
    "Assignment operator\n",
    "so many times we have to define a variable and use that variable under a condition"
   ]
  },
  {
   "cell_type": "code",
   "execution_count": 185,
   "id": "7fcaae0c",
   "metadata": {},
   "outputs": [
    {
     "name": "stdout",
     "output_type": "stream",
     "text": [
      "5\n"
     ]
    }
   ],
   "source": [
    "# Python2\n",
    "x = 5\n",
    "if x:\n",
    "    print(x)"
   ]
  },
  {
   "cell_type": "code",
   "execution_count": 186,
   "id": "d6250d61",
   "metadata": {},
   "outputs": [
    {
     "name": "stdout",
     "output_type": "stream",
     "text": [
      "5\n"
     ]
    }
   ],
   "source": [
    "# python 3\n",
    "if x:=5:\n",
    "    print(x)"
   ]
  },
  {
   "cell_type": "markdown",
   "id": "af0c62b7",
   "metadata": {},
   "source": [
    "Merge a list"
   ]
  },
  {
   "cell_type": "code",
   "execution_count": 187,
   "id": "cc198741",
   "metadata": {},
   "outputs": [
    {
     "data": {
      "text/plain": [
       "['a', 'b', 'c', 'd', 'e', 'f']"
      ]
     },
     "execution_count": 187,
     "metadata": {},
     "output_type": "execute_result"
    }
   ],
   "source": [
    "lst = ['d', 'e', 'f']\n",
    "['a','b','c', *lst]"
   ]
  },
  {
   "cell_type": "markdown",
   "id": "237dd28a",
   "metadata": {},
   "source": [
    "Ignore _ in numerals"
   ]
  },
  {
   "cell_type": "code",
   "execution_count": 188,
   "id": "d9b2d70b",
   "metadata": {},
   "outputs": [
    {
     "data": {
      "text/plain": [
       "123667.01"
      ]
     },
     "execution_count": 188,
     "metadata": {},
     "output_type": "execute_result"
    }
   ],
   "source": [
    "123_667.0_1"
   ]
  },
  {
   "cell_type": "markdown",
   "id": "8e16177c",
   "metadata": {},
   "source": [
    "What will be the output?"
   ]
  },
  {
   "cell_type": "code",
   "execution_count": 189,
   "id": "c2d5f480",
   "metadata": {},
   "outputs": [
    {
     "data": {
      "text/plain": [
       "16.5"
      ]
     },
     "execution_count": 189,
     "metadata": {},
     "output_type": "execute_result"
    }
   ],
   "source": [
    "round(16.5, 10)"
   ]
  },
  {
   "cell_type": "markdown",
   "id": "839018cb",
   "metadata": {},
   "source": [
    "Global namespace"
   ]
  },
  {
   "cell_type": "code",
   "execution_count": 190,
   "id": "bd8c0548",
   "metadata": {},
   "outputs": [
    {
     "data": {
      "text/plain": [
       "5"
      ]
     },
     "execution_count": 190,
     "metadata": {},
     "output_type": "execute_result"
    }
   ],
   "source": [
    "\n",
    "[x for x in [1,2,5]]\n",
    "x"
   ]
  },
  {
   "cell_type": "code",
   "execution_count": 191,
   "id": "e3612da7",
   "metadata": {},
   "outputs": [
    {
     "data": {
      "text/plain": [
       "1.5"
      ]
     },
     "execution_count": 191,
     "metadata": {},
     "output_type": "execute_result"
    }
   ],
   "source": [
    "3/2"
   ]
  },
  {
   "cell_type": "code",
   "execution_count": 192,
   "id": "90271caf",
   "metadata": {},
   "outputs": [
    {
     "data": {
      "text/plain": [
       "1"
      ]
     },
     "execution_count": 192,
     "metadata": {},
     "output_type": "execute_result"
    }
   ],
   "source": [
    "3//2"
   ]
  },
  {
   "cell_type": "code",
   "execution_count": 193,
   "id": "2008c2c6",
   "metadata": {},
   "outputs": [
    {
     "name": "stdout",
     "output_type": "stream",
     "text": [
      "<class 'int'>\n"
     ]
    }
   ],
   "source": [
    "bigone = 12345678901234567890\n",
    "print(type(bigone))"
   ]
  },
  {
   "cell_type": "code",
   "execution_count": 194,
   "id": "4f056b66",
   "metadata": {},
   "outputs": [
    {
     "ename": "TypeError",
     "evalue": "'>' not supported between instances of 'str' and 'int'",
     "output_type": "error",
     "traceback": [
      "\u001b[0;31m---------------------------------------------------------------------------\u001b[0m",
      "\u001b[0;31mTypeError\u001b[0m                                 Traceback (most recent call last)",
      "Input \u001b[0;32mIn [194]\u001b[0m, in \u001b[0;36m<cell line: 1>\u001b[0;34m()\u001b[0m\n\u001b[0;32m----> 1\u001b[0m \u001b[38;5;28mprint\u001b[39m(\u001b[38;5;124;43m\"\u001b[39;49m\u001b[38;5;124;43m3\u001b[39;49m\u001b[38;5;124;43m\"\u001b[39;49m\u001b[43m \u001b[49m\u001b[38;5;241;43m>\u001b[39;49m\u001b[43m \u001b[49m\u001b[38;5;241;43m4\u001b[39;49m)\n",
      "\u001b[0;31mTypeError\u001b[0m: '>' not supported between instances of 'str' and 'int'"
     ]
    }
   ],
   "source": [
    "print(\"3\" > 4)"
   ]
  },
  {
   "cell_type": "code",
   "execution_count": 195,
   "id": "d830b248",
   "metadata": {},
   "outputs": [
    {
     "data": {
      "text/plain": [
       "<zip at 0x109512880>"
      ]
     },
     "execution_count": 195,
     "metadata": {},
     "output_type": "execute_result"
    }
   ],
   "source": [
    "a = zip(range(100), range(100))\n",
    "a"
   ]
  },
  {
   "cell_type": "code",
   "execution_count": 196,
   "id": "39153e5d",
   "metadata": {},
   "outputs": [
    {
     "data": {
      "text/plain": [
       "(0, 0)"
      ]
     },
     "execution_count": 196,
     "metadata": {},
     "output_type": "execute_result"
    }
   ],
   "source": [
    "# a.next() python 2\n",
    "next(a)"
   ]
  },
  {
   "cell_type": "code",
   "execution_count": 198,
   "id": "2b4d56b3",
   "metadata": {},
   "outputs": [
    {
     "data": {
      "text/plain": [
       "<zip at 0x1092120c0>"
      ]
     },
     "execution_count": 198,
     "metadata": {},
     "output_type": "execute_result"
    }
   ],
   "source": [
    "import string\n",
    "pairs = zip(string.ascii_uppercase, string.ascii_lowercase)\n",
    "pairs"
   ]
  },
  {
   "cell_type": "code",
   "execution_count": 199,
   "id": "b4e74f7f",
   "metadata": {},
   "outputs": [
    {
     "name": "stdout",
     "output_type": "stream",
     "text": [
      "104 <class 'int'>\n",
      "105 <class 'int'>\n"
     ]
    }
   ],
   "source": [
    "for i in b\"hi\":\n",
    "    print(i, type(i))"
   ]
  },
  {
   "cell_type": "code",
   "execution_count": 200,
   "id": "340233c7",
   "metadata": {},
   "outputs": [
    {
     "name": "stdout",
     "output_type": "stream",
     "text": [
      "caféhello\n"
     ]
    }
   ],
   "source": [
    "print(\"café\" + u\"hello\")"
   ]
  },
  {
   "cell_type": "markdown",
   "id": "b8abc96b",
   "metadata": {},
   "source": [
    "Strings are in Unicode by default in Python 3.x"
   ]
  },
  {
   "cell_type": "code",
   "execution_count": 201,
   "id": "212de755",
   "metadata": {},
   "outputs": [
    {
     "data": {
      "text/plain": [
       "b'\\xd0\\x97\\xd0\\xb4\\xd1\\x80\\xd0\\xb0\\xd0\\xb2\\xd1\\x81\\xd1\\x82\\xd0\\xb2\\xd1\\x83\\xd0\\xb9\\xd1\\x82\\xd0\\xb5'"
      ]
     },
     "execution_count": 201,
     "metadata": {},
     "output_type": "execute_result"
    }
   ],
   "source": [
    "russian_hellé = 'Здравствуйте'\n",
    "erh = russian_hellé.encode('utf-8')\n",
    "erh\n",
    "#type(erh)"
   ]
  },
  {
   "cell_type": "code",
   "execution_count": 202,
   "id": "d4c4ec59",
   "metadata": {},
   "outputs": [],
   "source": [
    "class ABC:\n",
    "    def __init__(self, x, y):\n",
    "        super().__init__(x, y)\n",
    "    "
   ]
  },
  {
   "cell_type": "code",
   "execution_count": 203,
   "id": "f27e1c9e",
   "metadata": {},
   "outputs": [
    {
     "name": "stdout",
     "output_type": "stream",
     "text": [
      "my fav number 5.12\n"
     ]
    }
   ],
   "source": [
    "x=5.123\n",
    "y=2\n",
    "print(f'my fav number {x:.{y}f}')"
   ]
  },
  {
   "cell_type": "markdown",
   "id": "881815f2",
   "metadata": {},
   "source": [
    "print out the variable and the value of the variable"
   ]
  },
  {
   "cell_type": "code",
   "execution_count": 204,
   "id": "95c74d03",
   "metadata": {},
   "outputs": [
    {
     "name": "stdout",
     "output_type": "stream",
     "text": [
      "x=5.123\n"
     ]
    }
   ],
   "source": [
    "print(f'{x=}')"
   ]
  },
  {
   "cell_type": "code",
   "execution_count": 205,
   "id": "60ea596a",
   "metadata": {},
   "outputs": [
    {
     "ename": "TypeError",
     "evalue": "'>' not supported between instances of 'int' and 'tuple'",
     "output_type": "error",
     "traceback": [
      "\u001b[0;31m---------------------------------------------------------------------------\u001b[0m",
      "\u001b[0;31mTypeError\u001b[0m                                 Traceback (most recent call last)",
      "Input \u001b[0;32mIn [205]\u001b[0m, in \u001b[0;36m<cell line: 1>\u001b[0;34m()\u001b[0m\n\u001b[0;32m----> 1\u001b[0m \u001b[38;5;241;43m2\u001b[39;49m\u001b[43m \u001b[49m\u001b[38;5;241;43m>\u001b[39;49m\u001b[43m \u001b[49m\u001b[43m(\u001b[49m\u001b[38;5;241;43m1\u001b[39;49m\u001b[43m,\u001b[49m\u001b[38;5;241;43m2\u001b[39;49m\u001b[43m)\u001b[49m\n",
      "\u001b[0;31mTypeError\u001b[0m: '>' not supported between instances of 'int' and 'tuple'"
     ]
    }
   ],
   "source": [
    "2 > (1,2)"
   ]
  },
  {
   "cell_type": "code",
   "execution_count": 206,
   "id": "6b177e10",
   "metadata": {},
   "outputs": [
    {
     "ename": "SyntaxError",
     "evalue": "invalid syntax (271657561.py, line 1)",
     "output_type": "error",
     "traceback": [
      "\u001b[0;36m  Input \u001b[0;32mIn [206]\u001b[0;36m\u001b[0m\n\u001b[0;31m    b = `12` # no longer works in python 3\u001b[0m\n\u001b[0m        ^\u001b[0m\n\u001b[0;31mSyntaxError\u001b[0m\u001b[0;31m:\u001b[0m invalid syntax\n"
     ]
    }
   ],
   "source": [
    "b = `12` # no longer works in python 3\n",
    "b"
   ]
  },
  {
   "cell_type": "markdown",
   "id": "af5fa43b",
   "metadata": {},
   "source": [
    "## some credits to https://devopedia.org/python-2-vs-3"
   ]
  }
 ],
 "metadata": {
  "kernelspec": {
   "display_name": "Python 3 (ipykernel)",
   "language": "python",
   "name": "python3"
  },
  "language_info": {
   "codemirror_mode": {
    "name": "ipython",
    "version": 3
   },
   "file_extension": ".py",
   "mimetype": "text/x-python",
   "name": "python",
   "nbconvert_exporter": "python",
   "pygments_lexer": "ipython3",
   "version": "3.10.5"
  }
 },
 "nbformat": 4,
 "nbformat_minor": 5
}
