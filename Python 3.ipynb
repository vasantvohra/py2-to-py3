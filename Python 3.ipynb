{
 "cells": [
  {
   "cell_type": "markdown",
   "id": "e465f137",
   "metadata": {},
   "source": [
    "# Dictionary"
   ]
  },
  {
   "cell_type": "markdown",
   "id": "77f3f845",
   "metadata": {},
   "source": [
    "## iteritems -> items and faster due to [view](https://docs.python.org/3.3/library/stdtypes.html#dict-views), similar to iterator\n"
   ]
  },
  {
   "cell_type": "code",
   "execution_count": 175,
   "id": "302256f7",
   "metadata": {},
   "outputs": [
    {
     "name": "stdout",
     "output_type": "stream",
     "text": [
      "Python 3.10.5\r\n"
     ]
    }
   ],
   "source": [
    "!python -V && exit"
   ]
  },
  {
   "cell_type": "markdown",
   "id": "483c78d9",
   "metadata": {},
   "source": [
    "range is a generator in python3"
   ]
  },
  {
   "cell_type": "code",
   "execution_count": 176,
   "id": "806865aa",
   "metadata": {},
   "outputs": [
    {
     "data": {
      "text/plain": [
       "range(0, 5)"
      ]
     },
     "execution_count": 176,
     "metadata": {},
     "output_type": "execute_result"
    }
   ],
   "source": [
    "range(5)"
   ]
  },
  {
   "cell_type": "code",
   "execution_count": null,
   "id": "ae533c9a",
   "metadata": {},
   "outputs": [],
   "source": [
    "# from itertools import zip_longest\n",
    "a = zip(range(1000), range(0, 1000, 2))\n",
    "dictionary = dict(a)\n",
    "dictionary"
   ]
  },
  {
   "cell_type": "code",
   "execution_count": 178,
   "id": "2736df3f",
   "metadata": {},
   "outputs": [],
   "source": [
    "count = 0\n",
    "for k,v in dictionary.items():\n",
    "    if k%2 and v%2: count+=1"
   ]
  },
  {
   "cell_type": "markdown",
   "id": "8d1f232d",
   "metadata": {},
   "source": [
    "Now we can reverse a dictionary view,"
   ]
  },
  {
   "cell_type": "code",
   "execution_count": 207,
   "id": "1e9feca5",
   "metadata": {},
   "outputs": [
    {
     "data": {
      "text/plain": [
       "[499, 498, 497, 496, 495]"
      ]
     },
     "execution_count": 207,
     "metadata": {},
     "output_type": "execute_result"
    }
   ],
   "source": [
    "list(reversed(dictionary))[:5]"
   ]
  },
  {
   "cell_type": "markdown",
   "id": "749404fb",
   "metadata": {},
   "source": [
    "Get back a readonly dictionary view? Available only in python 3.10"
   ]
  },
  {
   "cell_type": "code",
   "execution_count": null,
   "id": "5e9010fd",
   "metadata": {},
   "outputs": [],
   "source": [
    "values = dictionary.values()\n",
    "values.mapping"
   ]
  },
  {
   "cell_type": "code",
   "execution_count": null,
   "id": "56cba885",
   "metadata": {},
   "outputs": [],
   "source": []
  },
  {
   "cell_type": "code",
   "execution_count": 181,
   "id": "4bf325c4",
   "metadata": {},
   "outputs": [
    {
     "data": {
      "text/plain": [
       "456"
      ]
     },
     "execution_count": 181,
     "metadata": {},
     "output_type": "execute_result"
    }
   ],
   "source": [
    "values.mapping[228]"
   ]
  },
  {
   "cell_type": "markdown",
   "id": "c8dd194b",
   "metadata": {},
   "source": [
    "update dictionary"
   ]
  },
  {
   "cell_type": "code",
   "execution_count": 182,
   "id": "709ff3f5",
   "metadata": {
    "scrolled": true
   },
   "outputs": [
    {
     "name": "stdout",
     "output_type": "stream",
     "text": [
      "CPU times: user 1 µs, sys: 1 µs, total: 2 µs\n",
      "Wall time: 3.1 µs\n",
      "{'a': 1, 'b': 3, 'c': 4}\n"
     ]
    }
   ],
   "source": [
    "dictionary_1 = {'a': 1, 'b': 2}\n",
    "dictionary_2 = {'b': 3, 'c': 4}\n",
    "%time dictionary_1 |= dictionary_2\n",
    "print(dictionary_1)"
   ]
  },
  {
   "cell_type": "markdown",
   "id": "f7e43469",
   "metadata": {},
   "source": [
    "merge dictionary"
   ]
  },
  {
   "cell_type": "code",
   "execution_count": 183,
   "id": "76188964",
   "metadata": {},
   "outputs": [
    {
     "name": "stdout",
     "output_type": "stream",
     "text": [
      "{'a': 1, 'b': 3, 'c': 4}\n"
     ]
    }
   ],
   "source": [
    "merge_dictionary_1 = {**dictionary_1, **dictionary_2}\n",
    "print(merge_dictionary_1)"
   ]
  },
  {
   "cell_type": "code",
   "execution_count": 184,
   "id": "946c2aa3",
   "metadata": {},
   "outputs": [
    {
     "name": "stdout",
     "output_type": "stream",
     "text": [
      "CPU times: user 2 µs, sys: 0 ns, total: 2 µs\n",
      "Wall time: 3.1 µs\n"
     ]
    },
    {
     "data": {
      "text/plain": [
       "{'b': 2, 'c': 4, 'a': 1}"
      ]
     },
     "execution_count": 184,
     "metadata": {},
     "output_type": "execute_result"
    }
   ],
   "source": [
    "dictionary_1 = {'a': 1, 'b': 2}\n",
    "%time dictionary_1 =  {'b': 3, 'c': 4} | dictionary_1\n",
    "dictionary_1\n",
    "# show screenshot"
   ]
  },
  {
   "cell_type": "markdown",
   "id": "17ffc0c8",
   "metadata": {},
   "source": [
    "Assignment operator\n",
    "so many times we have to define a variable and use that variable under a condition"
   ]
  },
  {
   "cell_type": "code",
   "execution_count": 185,
   "id": "7fcaae0c",
   "metadata": {},
   "outputs": [
    {
     "name": "stdout",
     "output_type": "stream",
     "text": [
      "5\n"
     ]
    }
   ],
   "source": [
    "# Python2\n",
    "x = 5\n",
    "if x:\n",
    "    print(x)"
   ]
  },
  {
   "cell_type": "code",
   "execution_count": 186,
   "id": "d6250d61",
   "metadata": {},
   "outputs": [
    {
     "name": "stdout",
     "output_type": "stream",
     "text": [
      "5\n"
     ]
    }
   ],
   "source": [
    "# python 3\n",
    "if x:=5:\n",
    "    print(x)"
   ]
  },
  {
   "cell_type": "markdown",
   "id": "af0c62b7",
   "metadata": {},
   "source": [
    "Merge a list"
   ]
  },
  {
   "cell_type": "code",
   "execution_count": 187,
   "id": "cc198741",
   "metadata": {},
   "outputs": [
    {
     "data": {
      "text/plain": [
       "['a', 'b', 'c', 'd', 'e', 'f']"
      ]
     },
     "execution_count": 187,
     "metadata": {},
     "output_type": "execute_result"
    }
   ],
   "source": [
    "lst = ['d', 'e', 'f']\n",
    "['a','b','c', *lst]"
   ]
  },
  {
   "cell_type": "markdown",
   "id": "237dd28a",
   "metadata": {},
   "source": [
    "Ignore _ in numerals"
   ]
  },
  {
   "cell_type": "code",
   "execution_count": 188,
   "id": "d9b2d70b",
   "metadata": {},
   "outputs": [
    {
     "data": {
      "text/plain": [
       "123667.01"
      ]
     },
     "execution_count": 188,
     "metadata": {},
     "output_type": "execute_result"
    }
   ],
   "source": [
    "123_667.0_1"
   ]
  },
  {
   "cell_type": "markdown",
   "id": "8e16177c",
   "metadata": {},
   "source": [
    "What will be the output?"
   ]
  },
  {
   "cell_type": "code",
   "execution_count": 189,
   "id": "c2d5f480",
   "metadata": {},
   "outputs": [
    {
     "data": {
      "text/plain": [
       "16.5"
      ]
     },
     "execution_count": 189,
     "metadata": {},
     "output_type": "execute_result"
    }
   ],
   "source": [
    "round(16.5, 10)"
   ]
  },
  {
   "cell_type": "markdown",
   "id": "e624f143",
   "metadata": {},
   "source": [
    "Global namespace"
   ]
  },
  {
   "cell_type": "code",
   "execution_count": 190,
   "id": "bd8c0548",
   "metadata": {},
   "outputs": [
    {
     "data": {
      "text/plain": [
       "5"
      ]
     },
     "execution_count": 190,
     "metadata": {},
     "output_type": "execute_result"
    }
   ],
   "source": [
    "\n",
    "[x for x in [1,2,5]]\n",
    "x"
   ]
  },
  {
   "cell_type": "code",
   "execution_count": 191,
   "id": "e3612da7",
   "metadata": {},
   "outputs": [
    {
     "data": {
      "text/plain": [
       "1.5"
      ]
     },
     "execution_count": 191,
     "metadata": {},
     "output_type": "execute_result"
    }
   ],
   "source": [
    "3/2"
   ]
  },
  {
   "cell_type": "code",
   "execution_count": 192,
   "id": "90271caf",
   "metadata": {},
   "outputs": [
    {
     "data": {
      "text/plain": [
       "1"
      ]
     },
     "execution_count": 192,
     "metadata": {},
     "output_type": "execute_result"
    }
   ],
   "source": [
    "3//2"
   ]
  },
  {
   "cell_type": "code",
   "execution_count": 193,
   "id": "f02ebede",
   "metadata": {},
   "outputs": [
    {
     "name": "stdout",
     "output_type": "stream",
     "text": [
      "<class 'int'>\n"
     ]
    }
   ],
   "source": [
    "bigone = 12345678901234567890\n",
    "print(type(bigone))"
   ]
  },
  {
   "cell_type": "code",
   "execution_count": 194,
   "id": "69e83057",
   "metadata": {},
   "outputs": [
    {
     "ename": "TypeError",
     "evalue": "'>' not supported between instances of 'str' and 'int'",
     "output_type": "error",
     "traceback": [
      "\u001b[0;31m---------------------------------------------------------------------------\u001b[0m",
      "\u001b[0;31mTypeError\u001b[0m                                 Traceback (most recent call last)",
      "Input \u001b[0;32mIn [194]\u001b[0m, in \u001b[0;36m<cell line: 1>\u001b[0;34m()\u001b[0m\n\u001b[0;32m----> 1\u001b[0m \u001b[38;5;28mprint\u001b[39m(\u001b[38;5;124;43m\"\u001b[39;49m\u001b[38;5;124;43m3\u001b[39;49m\u001b[38;5;124;43m\"\u001b[39;49m\u001b[43m \u001b[49m\u001b[38;5;241;43m>\u001b[39;49m\u001b[43m \u001b[49m\u001b[38;5;241;43m4\u001b[39;49m)\n",
      "\u001b[0;31mTypeError\u001b[0m: '>' not supported between instances of 'str' and 'int'"
     ]
    }
   ],
   "source": [
    "print(\"3\" > 4)"
   ]
  },
  {
   "cell_type": "code",
   "execution_count": 195,
   "id": "7b8d983d",
   "metadata": {},
   "outputs": [
    {
     "data": {
      "text/plain": [
       "<zip at 0x109512880>"
      ]
     },
     "execution_count": 195,
     "metadata": {},
     "output_type": "execute_result"
    }
   ],
   "source": [
    "a = zip(range(100), range(100))\n",
    "a"
   ]
  },
  {
   "cell_type": "code",
   "execution_count": 196,
   "id": "b28901c2",
   "metadata": {},
   "outputs": [
    {
     "data": {
      "text/plain": [
       "(0, 0)"
      ]
     },
     "execution_count": 196,
     "metadata": {},
     "output_type": "execute_result"
    }
   ],
   "source": [
    "# a.next() python 2\n",
    "next(a)"
   ]
  },
  {
   "cell_type": "code",
   "execution_count": 198,
   "id": "e9ccbba0",
   "metadata": {},
   "outputs": [
    {
     "data": {
      "text/plain": [
       "<zip at 0x1092120c0>"
      ]
     },
     "execution_count": 198,
     "metadata": {},
     "output_type": "execute_result"
    }
   ],
   "source": [
    "import string\n",
    "pairs = zip(string.ascii_uppercase, string.ascii_lowercase)\n",
    "pairs"
   ]
  },
  {
   "cell_type": "code",
   "execution_count": 199,
   "id": "eb5308e5",
   "metadata": {},
   "outputs": [
    {
     "name": "stdout",
     "output_type": "stream",
     "text": [
      "104 <class 'int'>\n",
      "105 <class 'int'>\n"
     ]
    }
   ],
   "source": [
    "for i in b\"hi\":\n",
    "    print(i, type(i))"
   ]
  },
  {
   "cell_type": "code",
   "execution_count": 200,
   "id": "c3d4cb69",
   "metadata": {},
   "outputs": [
    {
     "name": "stdout",
     "output_type": "stream",
     "text": [
      "caféhello\n"
     ]
    }
   ],
   "source": [
    "print(\"café\" + u\"hello\")"
   ]
  },
  {
   "cell_type": "markdown",
   "id": "149bc09f",
   "metadata": {},
   "source": [
    "Strings are in Unicode by default in Python 3.x"
   ]
  },
  {
   "cell_type": "code",
   "execution_count": 201,
   "id": "5248429d",
   "metadata": {},
   "outputs": [
    {
     "data": {
      "text/plain": [
       "b'\\xd0\\x97\\xd0\\xb4\\xd1\\x80\\xd0\\xb0\\xd0\\xb2\\xd1\\x81\\xd1\\x82\\xd0\\xb2\\xd1\\x83\\xd0\\xb9\\xd1\\x82\\xd0\\xb5'"
      ]
     },
     "execution_count": 201,
     "metadata": {},
     "output_type": "execute_result"
    }
   ],
   "source": [
    "russian_hellé = 'Здравствуйте'\n",
    "erh = russian_hellé.encode('utf-8')\n",
    "erh\n",
    "#type(erh)"
   ]
  },
  {
   "cell_type": "code",
   "execution_count": 202,
   "id": "3664e841",
   "metadata": {},
   "outputs": [],
   "source": [
    "class ABC:\n",
    "    def __init__(self, x, y):\n",
    "        super().__init__(x, y)\n",
    "    "
   ]
  },
  {
   "cell_type": "code",
   "execution_count": 203,
   "id": "fd40add3",
   "metadata": {},
   "outputs": [
    {
     "name": "stdout",
     "output_type": "stream",
     "text": [
      "my fav number 5.12\n"
     ]
    }
   ],
   "source": [
    "x=5.123\n",
    "y=2\n",
    "print(f'my fav number {x:.{y}f}')"
   ]
  },
  {
   "cell_type": "markdown",
   "id": "0b99d936",
   "metadata": {},
   "source": [
    "print out the variable and the value of the variable"
   ]
  },
  {
   "cell_type": "code",
   "execution_count": 204,
   "id": "c1b4f7a1",
   "metadata": {},
   "outputs": [
    {
     "name": "stdout",
     "output_type": "stream",
     "text": [
      "x=5.123\n"
     ]
    }
   ],
   "source": [
    "print(f'{x=}')"
   ]
  },
  {
   "cell_type": "code",
   "execution_count": 205,
   "id": "6976b49b",
   "metadata": {},
   "outputs": [
    {
     "ename": "TypeError",
     "evalue": "'>' not supported between instances of 'int' and 'tuple'",
     "output_type": "error",
     "traceback": [
      "\u001b[0;31m---------------------------------------------------------------------------\u001b[0m",
      "\u001b[0;31mTypeError\u001b[0m                                 Traceback (most recent call last)",
      "Input \u001b[0;32mIn [205]\u001b[0m, in \u001b[0;36m<cell line: 1>\u001b[0;34m()\u001b[0m\n\u001b[0;32m----> 1\u001b[0m \u001b[38;5;241;43m2\u001b[39;49m\u001b[43m \u001b[49m\u001b[38;5;241;43m>\u001b[39;49m\u001b[43m \u001b[49m\u001b[43m(\u001b[49m\u001b[38;5;241;43m1\u001b[39;49m\u001b[43m,\u001b[49m\u001b[38;5;241;43m2\u001b[39;49m\u001b[43m)\u001b[49m\n",
      "\u001b[0;31mTypeError\u001b[0m: '>' not supported between instances of 'int' and 'tuple'"
     ]
    }
   ],
   "source": [
    "2 > (1,2)"
   ]
  },
  {
   "cell_type": "code",
   "execution_count": 206,
   "id": "811a8101",
   "metadata": {},
   "outputs": [
    {
     "ename": "SyntaxError",
     "evalue": "invalid syntax (271657561.py, line 1)",
     "output_type": "error",
     "traceback": [
      "\u001b[0;36m  Input \u001b[0;32mIn [206]\u001b[0;36m\u001b[0m\n\u001b[0;31m    b = `12` # no longer works in python 3\u001b[0m\n\u001b[0m        ^\u001b[0m\n\u001b[0;31mSyntaxError\u001b[0m\u001b[0;31m:\u001b[0m invalid syntax\n"
     ]
    }
   ],
   "source": [
    "b = `12` # no longer works in python 3\n",
    "b"
   ]
  },
  {
   "cell_type": "markdown",
   "id": "8aea5392",
   "metadata": {},
   "source": [
    "## some credits to https://devopedia.org/python-2-vs-3"
   ]
  }
 ],
 "metadata": {
  "kernelspec": {
   "display_name": "Python 3 (ipykernel)",
   "language": "python",
   "name": "python3"
  },
  "language_info": {
   "codemirror_mode": {
    "name": "ipython",
    "version": 3
   },
   "file_extension": ".py",
   "mimetype": "text/x-python",
   "name": "python",
   "nbconvert_exporter": "python",
   "pygments_lexer": "ipython3",
   "version": "3.10.5"
  }
 },
 "nbformat": 4,
 "nbformat_minor": 5
}
